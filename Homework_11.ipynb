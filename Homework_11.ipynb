{
  "nbformat": 4,
  "nbformat_minor": 0,
  "metadata": {
    "colab": {
      "provenance": []
    },
    "kernelspec": {
      "name": "python3",
      "display_name": "Python 3"
    },
    "language_info": {
      "name": "python"
    }
  },
  "cells": [
    {
      "cell_type": "markdown",
      "source": [
        "f(x) = -5*x**2 + 10*x - 150\n",
        "1. Определить корни\n",
        "2. Найти интервалы, на которых функция возрастает\n",
        "3. Найти интервалы, на которых функция убывает\n",
        "4. Построить график\n",
        "5. Вычислить вершину\n",
        "6. Определить промежутки, на котором f > 0\n",
        "7. Определить промежутки, на котором f < 0"
      ],
      "metadata": {
        "id": "MykeBzMc0Z0w"
      }
    },
    {
      "cell_type": "code",
      "source": [
        "from sympy import *\n",
        "from sympy.plotting import plot "
      ],
      "metadata": {
        "id": "QgipGf7N09Aa"
      },
      "execution_count": 2,
      "outputs": []
    },
    {
      "cell_type": "code",
      "source": [
        "x = Symbol('x')"
      ],
      "metadata": {
        "id": "BXEhuGtC1TSP"
      },
      "execution_count": 3,
      "outputs": []
    },
    {
      "cell_type": "code",
      "source": [
        "f = -5*x**2 + 10*x - 150"
      ],
      "metadata": {
        "id": "TQ0tKtxU1c-d"
      },
      "execution_count": 15,
      "outputs": []
    },
    {
      "cell_type": "code",
      "source": [
        "x1, x2 = solve(f, x)\n",
        "x1.evalf(),x2.evalf()"
      ],
      "metadata": {
        "colab": {
          "base_uri": "https://localhost:8080/"
        },
        "id": "Jrkzb7Wu1kd6",
        "outputId": "84a6e0ba-e85f-49b6-ea85-afca95673c02"
      },
      "execution_count": 25,
      "outputs": [
        {
          "output_type": "execute_result",
          "data": {
            "text/plain": [
              "(1.0 - 5.3851648071345*I, 1.0 + 5.3851648071345*I)"
            ]
          },
          "metadata": {},
          "execution_count": 25
        }
      ]
    },
    {
      "cell_type": "code",
      "source": [
        "solve(f>0)"
      ],
      "metadata": {
        "colab": {
          "base_uri": "https://localhost:8080/",
          "height": 37
        },
        "id": "X4367YMH1rd5",
        "outputId": "a79db9a5-69db-4e6a-9bb1-4268ce28e4d9"
      },
      "execution_count": 17,
      "outputs": [
        {
          "output_type": "execute_result",
          "data": {
            "text/plain": [
              "False"
            ],
            "text/latex": "$\\displaystyle \\text{False}$"
          },
          "metadata": {},
          "execution_count": 17
        }
      ]
    },
    {
      "cell_type": "code",
      "source": [
        "solve(f<0)"
      ],
      "metadata": {
        "colab": {
          "base_uri": "https://localhost:8080/",
          "height": 38
        },
        "id": "5RbNdkPV3PEz",
        "outputId": "ea7573d7-fcba-4c4b-f6c2-17d56a15f3b4"
      },
      "execution_count": 18,
      "outputs": [
        {
          "output_type": "execute_result",
          "data": {
            "text/plain": [
              "(-oo < x) & (x < oo)"
            ],
            "text/latex": "$\\displaystyle -\\infty < x \\wedge x < \\infty$"
          },
          "metadata": {},
          "execution_count": 18
        }
      ]
    },
    {
      "cell_type": "code",
      "source": [
        "plot(f)"
      ],
      "metadata": {
        "colab": {
          "base_uri": "https://localhost:8080/",
          "height": 314
        },
        "id": "JtYfP_Qz3VzU",
        "outputId": "a8223e88-a116-44f6-a27c-70c27ef44b5c"
      },
      "execution_count": 19,
      "outputs": [
        {
          "output_type": "display_data",
          "data": {
            "text/plain": [
              "<Figure size 432x288 with 1 Axes>"
            ],
            "image/png": "[encoded data removed]"
          },
          "metadata": {
            "needs_background": "light"
          }
        },
        {
          "output_type": "execute_result",
          "data": {
            "text/plain": [
              "<sympy.plotting.plot.Plot at 0x7fba0f366fa0>"
            ]
          },
          "metadata": {},
          "execution_count": 19
        }
      ]
    },
    {
      "cell_type": "code",
      "source": [
        "diff(f)"
      ],
      "metadata": {
        "colab": {
          "base_uri": "https://localhost:8080/",
          "height": 38
        },
        "id": "U0g1y-yh3eSk",
        "outputId": "61662207-3b85-484f-e173-f34fe4749736"
      },
      "execution_count": 20,
      "outputs": [
        {
          "output_type": "execute_result",
          "data": {
            "text/plain": [
              "10 - 10*x"
            ],
            "text/latex": "$\\displaystyle 10 - 10 x$"
          },
          "metadata": {},
          "execution_count": 20
        }
      ]
    },
    {
      "cell_type": "code",
      "source": [
        "solve(diff(f)>0)"
      ],
      "metadata": {
        "colab": {
          "base_uri": "https://localhost:8080/",
          "height": 38
        },
        "id": "OfcrIFQ93rOK",
        "outputId": "0090846a-f688-4c53-b084-b24b0ab0b901"
      },
      "execution_count": 23,
      "outputs": [
        {
          "output_type": "execute_result",
          "data": {
            "text/plain": [
              "(-oo < x) & (x < 1)"
            ],
            "text/latex": "$\\displaystyle -\\infty < x \\wedge x < 1$"
          },
          "metadata": {},
          "execution_count": 23
        }
      ]
    },
    {
      "cell_type": "code",
      "source": [
        "solve(diff(f)<0)"
      ],
      "metadata": {
        "colab": {
          "base_uri": "https://localhost:8080/",
          "height": 38
        },
        "id": "iZRaMP9G3uyx",
        "outputId": "554483e6-f0ee-4465-fe93-388f4a43c089"
      },
      "execution_count": 24,
      "outputs": [
        {
          "output_type": "execute_result",
          "data": {
            "text/plain": [
              "(1 < x) & (x < oo)"
            ],
            "text/latex": "$\\displaystyle 1 < x \\wedge x < \\infty$"
          },
          "metadata": {},
          "execution_count": 24
        }
      ]
    }
  ]
}